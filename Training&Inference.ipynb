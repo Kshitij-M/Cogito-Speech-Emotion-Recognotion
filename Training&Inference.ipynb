{
 "cells": [
  {
   "cell_type": "markdown",
   "id": "c8d0a889",
   "metadata": {
    "papermill": {
     "duration": 0.015154,
     "end_time": "2021-09-10T05:59:26.268358",
     "exception": false,
     "start_time": "2021-09-10T05:59:26.253204",
     "status": "completed"
    },
    "tags": []
   },
   "source": [
    "# Importing Necessary Libraries"
   ]
  },
  {
   "cell_type": "code",
   "execution_count": 1,
   "id": "9d180486",
   "metadata": {
    "_cell_guid": "b1076dfc-b9ad-4769-8c92-a6c4dae69d19",
    "_uuid": "8f2839f25d086af736a60e9eeb907d3b93b6e0e5",
    "execution": {
     "iopub.execute_input": "2021-09-10T05:59:26.311093Z",
     "iopub.status.busy": "2021-09-10T05:59:26.305499Z",
     "iopub.status.idle": "2021-09-10T05:59:36.526273Z",
     "shell.execute_reply": "2021-09-10T05:59:36.525364Z",
     "shell.execute_reply.started": "2021-09-10T05:57:46.340834Z"
    },
    "papermill": {
     "duration": 10.24375,
     "end_time": "2021-09-10T05:59:36.526465",
     "exception": false,
     "start_time": "2021-09-10T05:59:26.282715",
     "status": "completed"
    },
    "tags": []
   },
   "outputs": [
    {
     "data": {
      "text/html": [
       "<style type='text/css'>\n",
       ".datatable table.frame { margin-bottom: 0; }\n",
       ".datatable table.frame thead { border-bottom: none; }\n",
       ".datatable table.frame tr.coltypes td {  color: #FFFFFF;  line-height: 6px;  padding: 0 0.5em;}\n",
       ".datatable .bool    { background: #DDDD99; }\n",
       ".datatable .object  { background: #565656; }\n",
       ".datatable .int     { background: #5D9E5D; }\n",
       ".datatable .float   { background: #4040CC; }\n",
       ".datatable .str     { background: #CC4040; }\n",
       ".datatable .time    { background: #40CC40; }\n",
       ".datatable .row_index {  background: var(--jp-border-color3);  border-right: 1px solid var(--jp-border-color0);  color: var(--jp-ui-font-color3);  font-size: 9px;}\n",
       ".datatable .frame tbody td { text-align: left; }\n",
       ".datatable .frame tr.coltypes .row_index {  background: var(--jp-border-color0);}\n",
       ".datatable th:nth-child(2) { padding-left: 12px; }\n",
       ".datatable .hellipsis {  color: var(--jp-cell-editor-border-color);}\n",
       ".datatable .vellipsis {  background: var(--jp-layout-color0);  color: var(--jp-cell-editor-border-color);}\n",
       ".datatable .na {  color: var(--jp-cell-editor-border-color);  font-size: 80%;}\n",
       ".datatable .sp {  opacity: 0.25;}\n",
       ".datatable .footer { font-size: 9px; }\n",
       ".datatable .frame_dimensions {  background: var(--jp-border-color3);  border-top: 1px solid var(--jp-border-color0);  color: var(--jp-ui-font-color3);  display: inline-block;  opacity: 0.6;  padding: 1px 10px 1px 5px;}\n",
       "</style>\n"
      ],
      "text/plain": [
       "<IPython.core.display.HTML object>"
      ]
     },
     "metadata": {},
     "output_type": "display_data"
    }
   ],
   "source": [
    "import numpy as np # linear algebra\n",
    "import pandas as pd # data processing, CSV file I/O (e.g. pd.read_csv)\n",
    "import tensorflow as tf\n",
    "import seaborn as sns\n",
    "import os\n",
    "import librosa\n",
    "\n",
    "from sklearn.model_selection import train_test_split\n",
    "from xgboost import XGBClassifier\n",
    "from lightgbm import LGBMClassifier\n",
    "from catboost import CatBoostClassifier\n",
    "from sklearn.tree import DecisionTreeClassifier\n",
    "from sklearn.ensemble import RandomForestClassifier\n",
    "from sklearn.ensemble import VotingClassifier\n",
    "from sklearn.preprocessing import LabelEncoder, MinMaxScaler, StandardScaler\n",
    "from sklearn.svm import SVC\n",
    "from sklearn.ensemble import ExtraTreesClassifier, AdaBoostClassifier, GradientBoostingClassifier, BaggingClassifier\n",
    "from sklearn.neighbors import KNeighborsClassifier\n",
    "from sklearn.model_selection import train_test_split, StratifiedKFold\n",
    "from keras.layers import Dense,Dropout\n",
    "from keras.models import Sequential\n",
    "from sklearn.metrics import accuracy_score\n",
    "import joblib, pickle\n",
    "import matplotlib.pyplot as plt\n",
    "import warnings\n",
    "warnings.filterwarnings('ignore')\n",
    "SAMPLE_RATE = 45100\n",
    "\n",
    "from tqdm import tqdm\n",
    "from scipy.stats import skew\n",
    "data_path = '../input/intelligence-augmentation-ia-for-ai/dataset/'"
   ]
  },
  {
   "cell_type": "markdown",
   "id": "8091c77c",
   "metadata": {
    "papermill": {
     "duration": 0.01405,
     "end_time": "2021-09-10T05:59:36.555446",
     "exception": false,
     "start_time": "2021-09-10T05:59:36.541396",
     "status": "completed"
    },
    "tags": []
   },
   "source": [
    "# Loading the Dataset "
   ]
  },
  {
   "cell_type": "code",
   "execution_count": 2,
   "id": "00d572b5",
   "metadata": {
    "execution": {
     "iopub.execute_input": "2021-09-10T05:59:36.591712Z",
     "iopub.status.busy": "2021-09-10T05:59:36.591057Z",
     "iopub.status.idle": "2021-09-10T05:59:36.993033Z",
     "shell.execute_reply": "2021-09-10T05:59:36.992445Z",
     "shell.execute_reply.started": "2021-09-10T05:55:52.159497Z"
    },
    "papermill": {
     "duration": 0.423426,
     "end_time": "2021-09-10T05:59:36.993194",
     "exception": false,
     "start_time": "2021-09-10T05:59:36.569768",
     "status": "completed"
    },
    "tags": []
   },
   "outputs": [],
   "source": [
    "#loading data\n",
    "audio_train_files = os.listdir(data_path+'TrainAudioFiles')\n",
    "audio_test_files = os.listdir(data_path+'TestAudioFiles')\n",
    "\n",
    "train = pd.read_csv(data_path+'train.csv')\n",
    "test = pd.read_csv(data_path+'test.csv')\n",
    "submission = pd.read_csv(data_path+'sample_submission.csv')\n",
    "\n",
    "debug = False\n",
    "if debug:\n",
    "    train = train.head(10)\n",
    "    test = test.head(10)"
   ]
  },
  {
   "cell_type": "markdown",
   "id": "e505fae1",
   "metadata": {
    "papermill": {
     "duration": 0.015288,
     "end_time": "2021-09-10T05:59:37.023064",
     "exception": false,
     "start_time": "2021-09-10T05:59:37.007776",
     "status": "completed"
    },
    "tags": []
   },
   "source": [
    "# Feature Extraction From Audio Files"
   ]
  },
  {
   "cell_type": "code",
   "execution_count": 3,
   "id": "c31d8156",
   "metadata": {
    "execution": {
     "iopub.execute_input": "2021-09-10T05:59:37.067453Z",
     "iopub.status.busy": "2021-09-10T05:59:37.062319Z",
     "iopub.status.idle": "2021-09-10T05:59:37.076217Z",
     "shell.execute_reply": "2021-09-10T05:59:37.075640Z",
     "shell.execute_reply.started": "2021-09-10T05:55:52.541821Z"
    },
    "papermill": {
     "duration": 0.037981,
     "end_time": "2021-09-10T05:59:37.076382",
     "exception": false,
     "start_time": "2021-09-10T05:59:37.038401",
     "status": "completed"
    },
    "tags": []
   },
   "outputs": [],
   "source": [
    "#returns mfcc features with mean and standard deviation along time\n",
    "def get_mfcc(name, path):\n",
    "    b, _ = librosa.core.load(path + name, sr = SAMPLE_RATE)\n",
    "    assert _ == SAMPLE_RATE\n",
    "    try:\n",
    "        ft1 = librosa.feature.mfcc(b, sr = SAMPLE_RATE, n_mfcc=20)\n",
    "        ft2 = librosa.feature.zero_crossing_rate(b)[0]\n",
    "        ft3 = librosa.feature.spectral_rolloff(b)[0]\n",
    "        ft4 = librosa.feature.spectral_centroid(b)[0]\n",
    "        ft5 = librosa.feature.spectral_contrast(b)[0]\n",
    "        ft6 = librosa.feature.spectral_bandwidth(b)[0]\n",
    "        ft7 = librosa.feature.spectral_flatness(b)[0]\n",
    "        ft8 = librosa.feature.melspectrogram(b)[0]\n",
    "        ft1_trunc = np.hstack((np.mean(ft1, axis = 1), np.std(ft1, axis = 1), skew(ft1, axis = 1), np.max(ft1, axis = 1), np.min(ft1, axis = 1), np.sum(ft1, axis = 1)))\n",
    "        ft2_trunc = np.hstack((np.mean(ft2), np.std(ft2), skew(ft2), np.max(ft2), np.min(ft2), np.sum(ft2)))\n",
    "        ft3_trunc = np.hstack((np.mean(ft3), np.std(ft3), skew(ft3), np.max(ft3), np.min(ft3), np.sum(ft3)))\n",
    "        ft4_trunc = np.hstack((np.mean(ft4), np.std(ft4), skew(ft4), np.max(ft4), np.min(ft4), np.sum(ft4)))\n",
    "        ft5_trunc = np.hstack((np.mean(ft5), np.std(ft5), skew(ft5), np.max(ft5), np.min(ft5), np.sum(ft5)))\n",
    "        ft6_trunc = np.hstack((np.mean(ft6), np.std(ft6), skew(ft6), np.max(ft6), np.min(ft6), np.sum(ft6)))\n",
    "        ft7_trunc = np.hstack((np.mean(ft7), np.std(ft7), skew(ft7), np.max(ft7), np.min(ft7), np.sum(ft7)))\n",
    "        ft8_trunc = np.hstack((np.mean(ft8), np.std(ft8), skew(ft8), np.max(ft8), np.min(ft8), np.sum(ft8)))\n",
    "        \n",
    "        return pd.Series(np.hstack((ft1_trunc, ft2_trunc, ft3_trunc, ft4_trunc, ft5_trunc, ft6_trunc, ft7_trunc, ft8_trunc)))\n",
    "    except:\n",
    "        print('bad file')\n",
    "        return pd.Series([0]*115)"
   ]
  },
  {
   "cell_type": "code",
   "execution_count": 4,
   "id": "8a4a3192",
   "metadata": {
    "execution": {
     "iopub.execute_input": "2021-09-10T05:59:37.124425Z",
     "iopub.status.busy": "2021-09-10T05:59:37.123403Z",
     "iopub.status.idle": "2021-09-10T06:59:33.316968Z",
     "shell.execute_reply": "2021-09-10T06:59:33.317586Z",
     "shell.execute_reply.started": "2021-09-10T05:55:53.776611Z"
    },
    "papermill": {
     "duration": 3596.226204,
     "end_time": "2021-09-10T06:59:33.317918",
     "exception": false,
     "start_time": "2021-09-10T05:59:37.091714",
     "status": "completed"
    },
    "tags": []
   },
   "outputs": [
    {
     "name": "stdout",
     "output_type": "stream",
     "text": [
      "done loading train mfcc\n",
      "done loading test mfcc\n"
     ]
    }
   ],
   "source": [
    "train_data = pd.DataFrame()\n",
    "train_data['filename'] = train['filename']\n",
    "test_data = pd.DataFrame()\n",
    "test_data['filename'] = test['filename']\n",
    "\n",
    "train_data = train_data['filename'].apply(get_mfcc, path=data_path+'TrainAudioFiles/')\n",
    "print('done loading train mfcc')\n",
    "test_data = test_data['filename'].apply(get_mfcc, path=data_path+'TestAudioFiles/')\n",
    "print('done loading test mfcc')\n",
    "\n",
    "train_data.fillna(0, inplace = True)\n",
    "test_data.fillna(0, inplace = True)\n",
    "\n",
    "train_data['filename'] = train['filename']\n",
    "test_data['filename'] = test['filename']\n",
    "train_data['emotion'] = train['emotion']"
   ]
  },
  {
   "cell_type": "markdown",
   "id": "0a295aae",
   "metadata": {
    "papermill": {
     "duration": 0.015029,
     "end_time": "2021-09-10T06:59:33.349670",
     "exception": false,
     "start_time": "2021-09-10T06:59:33.334641",
     "status": "completed"
    },
    "tags": []
   },
   "source": [
    "# Loading the audio features dataset"
   ]
  },
  {
   "cell_type": "code",
   "execution_count": 5,
   "id": "33ebcff9",
   "metadata": {
    "_kg_hide-output": true,
    "execution": {
     "iopub.execute_input": "2021-09-10T06:59:33.389410Z",
     "iopub.status.busy": "2021-09-10T06:59:33.388662Z",
     "iopub.status.idle": "2021-09-10T06:59:33.437235Z",
     "shell.execute_reply": "2021-09-10T06:59:33.436597Z",
     "shell.execute_reply.started": "2021-09-10T05:56:01.668413Z"
    },
    "papermill": {
     "duration": 0.072256,
     "end_time": "2021-09-10T06:59:33.437416",
     "exception": false,
     "start_time": "2021-09-10T06:59:33.365160",
     "status": "completed"
    },
    "tags": []
   },
   "outputs": [
    {
     "data": {
      "text/html": [
       "<div>\n",
       "<style scoped>\n",
       "    .dataframe tbody tr th:only-of-type {\n",
       "        vertical-align: middle;\n",
       "    }\n",
       "\n",
       "    .dataframe tbody tr th {\n",
       "        vertical-align: top;\n",
       "    }\n",
       "\n",
       "    .dataframe thead th {\n",
       "        text-align: right;\n",
       "    }\n",
       "</style>\n",
       "<table border=\"1\" class=\"dataframe\">\n",
       "  <thead>\n",
       "    <tr style=\"text-align: right;\">\n",
       "      <th></th>\n",
       "      <th>0</th>\n",
       "      <th>1</th>\n",
       "      <th>2</th>\n",
       "      <th>3</th>\n",
       "      <th>4</th>\n",
       "      <th>5</th>\n",
       "      <th>6</th>\n",
       "      <th>7</th>\n",
       "      <th>8</th>\n",
       "      <th>9</th>\n",
       "      <th>...</th>\n",
       "      <th>154</th>\n",
       "      <th>155</th>\n",
       "      <th>156</th>\n",
       "      <th>157</th>\n",
       "      <th>158</th>\n",
       "      <th>159</th>\n",
       "      <th>160</th>\n",
       "      <th>161</th>\n",
       "      <th>filename</th>\n",
       "      <th>emotion</th>\n",
       "    </tr>\n",
       "  </thead>\n",
       "  <tbody>\n",
       "    <tr>\n",
       "      <th>0</th>\n",
       "      <td>-354.867004</td>\n",
       "      <td>193.175323</td>\n",
       "      <td>-53.355343</td>\n",
       "      <td>39.074314</td>\n",
       "      <td>3.960026</td>\n",
       "      <td>4.721560</td>\n",
       "      <td>-3.838528</td>\n",
       "      <td>-4.757781</td>\n",
       "      <td>7.602531</td>\n",
       "      <td>-6.266951</td>\n",
       "      <td>...</td>\n",
       "      <td>0.000005</td>\n",
       "      <td>0.014919</td>\n",
       "      <td>0.163772</td>\n",
       "      <td>0.175347</td>\n",
       "      <td>1.610929</td>\n",
       "      <td>0.950949</td>\n",
       "      <td>0.001916</td>\n",
       "      <td>35.210976</td>\n",
       "      <td>18777.mp3</td>\n",
       "      <td>4</td>\n",
       "    </tr>\n",
       "    <tr>\n",
       "      <th>1</th>\n",
       "      <td>-355.202362</td>\n",
       "      <td>143.428635</td>\n",
       "      <td>-57.462612</td>\n",
       "      <td>40.503212</td>\n",
       "      <td>-16.505716</td>\n",
       "      <td>8.730952</td>\n",
       "      <td>-11.762589</td>\n",
       "      <td>-8.982899</td>\n",
       "      <td>-7.560604</td>\n",
       "      <td>-11.372784</td>\n",
       "      <td>...</td>\n",
       "      <td>0.000009</td>\n",
       "      <td>0.129636</td>\n",
       "      <td>0.021694</td>\n",
       "      <td>0.079036</td>\n",
       "      <td>5.659012</td>\n",
       "      <td>0.675762</td>\n",
       "      <td>0.000318</td>\n",
       "      <td>6.421291</td>\n",
       "      <td>24041.mp3</td>\n",
       "      <td>4</td>\n",
       "    </tr>\n",
       "    <tr>\n",
       "      <th>2</th>\n",
       "      <td>-431.580414</td>\n",
       "      <td>178.002090</td>\n",
       "      <td>-38.236614</td>\n",
       "      <td>60.291965</td>\n",
       "      <td>21.734367</td>\n",
       "      <td>0.912716</td>\n",
       "      <td>-13.096365</td>\n",
       "      <td>-5.913789</td>\n",
       "      <td>-5.313841</td>\n",
       "      <td>-12.444064</td>\n",
       "      <td>...</td>\n",
       "      <td>0.000010</td>\n",
       "      <td>0.003418</td>\n",
       "      <td>0.026037</td>\n",
       "      <td>0.024450</td>\n",
       "      <td>1.253504</td>\n",
       "      <td>0.088569</td>\n",
       "      <td>0.000684</td>\n",
       "      <td>0.807148</td>\n",
       "      <td>1621.mp3</td>\n",
       "      <td>3</td>\n",
       "    </tr>\n",
       "    <tr>\n",
       "      <th>3</th>\n",
       "      <td>-304.168152</td>\n",
       "      <td>172.427704</td>\n",
       "      <td>-58.746151</td>\n",
       "      <td>23.765541</td>\n",
       "      <td>-25.326628</td>\n",
       "      <td>1.595185</td>\n",
       "      <td>-11.662876</td>\n",
       "      <td>3.741948</td>\n",
       "      <td>-10.874989</td>\n",
       "      <td>-11.988649</td>\n",
       "      <td>...</td>\n",
       "      <td>0.000008</td>\n",
       "      <td>0.023044</td>\n",
       "      <td>0.047650</td>\n",
       "      <td>0.111315</td>\n",
       "      <td>5.614192</td>\n",
       "      <td>0.949456</td>\n",
       "      <td>0.000230</td>\n",
       "      <td>6.575749</td>\n",
       "      <td>28883.mp3</td>\n",
       "      <td>4</td>\n",
       "    </tr>\n",
       "    <tr>\n",
       "      <th>4</th>\n",
       "      <td>-454.580322</td>\n",
       "      <td>135.082611</td>\n",
       "      <td>-34.125038</td>\n",
       "      <td>46.622921</td>\n",
       "      <td>-17.965414</td>\n",
       "      <td>5.931890</td>\n",
       "      <td>4.517963</td>\n",
       "      <td>0.285223</td>\n",
       "      <td>7.517501</td>\n",
       "      <td>-7.701989</td>\n",
       "      <td>...</td>\n",
       "      <td>0.000005</td>\n",
       "      <td>0.285850</td>\n",
       "      <td>0.014066</td>\n",
       "      <td>0.016140</td>\n",
       "      <td>2.703236</td>\n",
       "      <td>0.105954</td>\n",
       "      <td>0.000520</td>\n",
       "      <td>3.502504</td>\n",
       "      <td>14918.mp3</td>\n",
       "      <td>4</td>\n",
       "    </tr>\n",
       "  </tbody>\n",
       "</table>\n",
       "<p>5 rows × 164 columns</p>\n",
       "</div>"
      ],
      "text/plain": [
       "            0           1          2          3          4         5  \\\n",
       "0 -354.867004  193.175323 -53.355343  39.074314   3.960026  4.721560   \n",
       "1 -355.202362  143.428635 -57.462612  40.503212 -16.505716  8.730952   \n",
       "2 -431.580414  178.002090 -38.236614  60.291965  21.734367  0.912716   \n",
       "3 -304.168152  172.427704 -58.746151  23.765541 -25.326628  1.595185   \n",
       "4 -454.580322  135.082611 -34.125038  46.622921 -17.965414  5.931890   \n",
       "\n",
       "           6         7          8          9  ...       154       155  \\\n",
       "0  -3.838528 -4.757781   7.602531  -6.266951  ...  0.000005  0.014919   \n",
       "1 -11.762589 -8.982899  -7.560604 -11.372784  ...  0.000009  0.129636   \n",
       "2 -13.096365 -5.913789  -5.313841 -12.444064  ...  0.000010  0.003418   \n",
       "3 -11.662876  3.741948 -10.874989 -11.988649  ...  0.000008  0.023044   \n",
       "4   4.517963  0.285223   7.517501  -7.701989  ...  0.000005  0.285850   \n",
       "\n",
       "        156       157       158       159       160        161   filename  \\\n",
       "0  0.163772  0.175347  1.610929  0.950949  0.001916  35.210976  18777.mp3   \n",
       "1  0.021694  0.079036  5.659012  0.675762  0.000318   6.421291  24041.mp3   \n",
       "2  0.026037  0.024450  1.253504  0.088569  0.000684   0.807148   1621.mp3   \n",
       "3  0.047650  0.111315  5.614192  0.949456  0.000230   6.575749  28883.mp3   \n",
       "4  0.014066  0.016140  2.703236  0.105954  0.000520   3.502504  14918.mp3   \n",
       "\n",
       "   emotion  \n",
       "0        4  \n",
       "1        4  \n",
       "2        3  \n",
       "3        4  \n",
       "4        4  \n",
       "\n",
       "[5 rows x 164 columns]"
      ]
     },
     "execution_count": 5,
     "metadata": {},
     "output_type": "execute_result"
    }
   ],
   "source": [
    "encode = {'emotion': {'anger': 0, 'disgust': 1, 'fear': 2, 'joy': 3, 'neutral': 4, 'sadness': 5, 'surprise': 6}}\n",
    "decode = {'emotion': {0: 'anger', 1: 'disgust', 2: 'fear', 3: 'joy', 4: 'neutral', 5: 'sadness', 6: 'surprise'}}\n",
    "train_data = train_data.replace(encode)\n",
    "train_data.head()"
   ]
  },
  {
   "cell_type": "code",
   "execution_count": 6,
   "id": "a2b5f76c",
   "metadata": {
    "execution": {
     "iopub.execute_input": "2021-09-10T06:59:33.476438Z",
     "iopub.status.busy": "2021-09-10T06:59:33.475745Z",
     "iopub.status.idle": "2021-09-10T06:59:33.478970Z",
     "shell.execute_reply": "2021-09-10T06:59:33.478428Z",
     "shell.execute_reply.started": "2021-09-10T05:56:10.269080Z"
    },
    "papermill": {
     "duration": 0.024248,
     "end_time": "2021-09-10T06:59:33.479149",
     "exception": false,
     "start_time": "2021-09-10T06:59:33.454901",
     "status": "completed"
    },
    "tags": []
   },
   "outputs": [],
   "source": [
    "cols = list(train_data.columns)\n",
    "cols.remove('emotion')\n",
    "cols.remove('filename')"
   ]
  },
  {
   "cell_type": "code",
   "execution_count": 7,
   "id": "7518e85d",
   "metadata": {
    "execution": {
     "iopub.execute_input": "2021-09-10T06:59:33.527410Z",
     "iopub.status.busy": "2021-09-10T06:59:33.526598Z",
     "iopub.status.idle": "2021-09-10T06:59:33.529753Z",
     "shell.execute_reply": "2021-09-10T06:59:33.530410Z",
     "shell.execute_reply.started": "2021-09-10T05:56:11.481154Z"
    },
    "papermill": {
     "duration": 0.035229,
     "end_time": "2021-09-10T06:59:33.530639",
     "exception": false,
     "start_time": "2021-09-10T06:59:33.495410",
     "status": "completed"
    },
    "tags": []
   },
   "outputs": [],
   "source": [
    "train_x = train_data[cols]\n",
    "train_y = train_data['emotion']\n",
    "x_test = test_data[cols]"
   ]
  },
  {
   "cell_type": "code",
   "execution_count": 8,
   "id": "9ba9c4ce",
   "metadata": {
    "execution": {
     "iopub.execute_input": "2021-09-10T06:59:33.569122Z",
     "iopub.status.busy": "2021-09-10T06:59:33.568369Z",
     "iopub.status.idle": "2021-09-10T06:59:33.572071Z",
     "shell.execute_reply": "2021-09-10T06:59:33.571520Z",
     "shell.execute_reply.started": "2021-09-10T05:56:12.699895Z"
    },
    "papermill": {
     "duration": 0.025358,
     "end_time": "2021-09-10T06:59:33.572261",
     "exception": false,
     "start_time": "2021-09-10T06:59:33.546903",
     "status": "completed"
    },
    "tags": []
   },
   "outputs": [],
   "source": [
    "debug = False\n",
    "if debug:\n",
    "    train_x = train_x[:10]\n",
    "    train_y = train_y[:10]\n",
    "    x_test = x_test[:10]"
   ]
  },
  {
   "cell_type": "markdown",
   "id": "66a53e77",
   "metadata": {
    "papermill": {
     "duration": 0.01569,
     "end_time": "2021-09-10T06:59:33.604337",
     "exception": false,
     "start_time": "2021-09-10T06:59:33.588647",
     "status": "completed"
    },
    "tags": []
   },
   "source": [
    "# Model Training"
   ]
  },
  {
   "cell_type": "code",
   "execution_count": 9,
   "id": "51bce452",
   "metadata": {
    "execution": {
     "iopub.execute_input": "2021-09-10T06:59:33.639666Z",
     "iopub.status.busy": "2021-09-10T06:59:33.638702Z",
     "iopub.status.idle": "2021-09-10T07:08:24.859093Z",
     "shell.execute_reply": "2021-09-10T07:08:24.859658Z",
     "shell.execute_reply.started": "2021-09-10T05:57:53.569467Z"
    },
    "papermill": {
     "duration": 531.240146,
     "end_time": "2021-09-10T07:08:24.860130",
     "exception": false,
     "start_time": "2021-09-10T06:59:33.619984",
     "status": "completed"
    },
    "tags": []
   },
   "outputs": [
    {
     "name": "stdout",
     "output_type": "stream",
     "text": [
      "SEED 42\n",
      "--------------------------------------------------\n",
      "Fold 0\n",
      "Ensemble Validation Accuracy :  0.5824742268041238\n",
      "--------------------------------------------------\n",
      "Fold 1\n",
      "Ensemble Validation Accuracy :  0.6202749140893471\n",
      "--------------------------------------------------\n",
      "Fold 2\n",
      "Ensemble Validation Accuracy :  0.5876288659793815\n",
      "--------------------------------------------------\n",
      "Fold 3\n",
      "Ensemble Validation Accuracy :  0.5962199312714777\n",
      "--------------------------------------------------\n",
      "Fold 4\n",
      "Ensemble Validation Accuracy :  0.5893470790378007\n",
      "--------------------------------------------------\n",
      "Fold 5\n",
      "Ensemble Validation Accuracy :  0.5927835051546392\n",
      "--------------------------------------------------\n",
      "Fold 6\n",
      "Ensemble Validation Accuracy :  0.6041308089500861\n",
      "--------------------------------------------------\n",
      "Fold 7\n",
      "Ensemble Validation Accuracy :  0.5697074010327022\n",
      "--------------------------------------------------\n",
      "Fold 8\n",
      "Ensemble Validation Accuracy :  0.5851979345955249\n",
      "--------------------------------------------------\n",
      "Fold 9\n",
      "Ensemble Validation Accuracy :  0.5955249569707401\n",
      "--------------------------------------------------\n",
      "Ensemble OOF Score with SEED 42 :  0.592331499312242\n",
      "--------------------------------------------------\n"
     ]
    }
   ],
   "source": [
    "final_preds = np.zeros((len(x_test), 7))\n",
    "n_splits = 10\n",
    "random_states = [42]\n",
    "\n",
    "for seed in random_states:\n",
    "    test_preds = np.zeros((len(x_test), 7))\n",
    "    oof_predictions = np.zeros(len(train_data))\n",
    "    skf = StratifiedKFold(n_splits = n_splits , shuffle = True , random_state = seed)\n",
    "    print(f\"SEED {seed}\")\n",
    "    for fold, (tr_index , val_index) in enumerate(skf.split(train_x.values , train_y.values)):\n",
    "\n",
    "        print(\"-\" * 50)\n",
    "        print(f\"Fold {fold}\")\n",
    "\n",
    "        x_train,x_val = train_x.values[tr_index] , train_x.values[val_index]\n",
    "        y_train,y_val = train_y.values[tr_index] , train_y.values[val_index]\n",
    "\n",
    "        model1 = LGBMClassifier()\n",
    "        model2 = ExtraTreesClassifier(random_state = 0)\n",
    "        model3 = RandomForestClassifier(n_estimators = 500, random_state = 42)\n",
    "        \n",
    "        clf = VotingClassifier(estimators=[('lgbm', model1), ('ext', model2), ('rf', model3)], weights = [8, 2, 1], voting='soft')\n",
    "        clf.fit(x_train, y_train)\n",
    "        \n",
    "        joblib.dump(clf, f\"vc_fold_{fold}.pkl\")\n",
    "        \n",
    "        val_preds = clf.predict_proba(x_val)\n",
    "        print(f\"Ensemble Validation Accuracy : \" , accuracy_score(y_val , np.argmax(val_preds, axis = -1)))\n",
    "        \n",
    "        oof_predictions[val_index] = np.argmax(val_preds, axis = -1)\n",
    "        test_preds += (clf.predict_proba(x_test.values))\n",
    "            \n",
    "    print(\"-\" * 50)\n",
    "    print(f\"Ensemble OOF Score with SEED {seed} : \" , accuracy_score(train_y, oof_predictions))\n",
    "    print(\"-\" * 50)\n",
    "    \n",
    "    test_preds /= n_splits\n",
    "    final_preds += test_preds\n",
    "        \n",
    "final_preds /= len(random_states)"
   ]
  },
  {
   "cell_type": "markdown",
   "id": "cac3f8d4",
   "metadata": {
    "papermill": {
     "duration": 0.022295,
     "end_time": "2021-09-10T07:08:24.904917",
     "exception": false,
     "start_time": "2021-09-10T07:08:24.882622",
     "status": "completed"
    },
    "tags": []
   },
   "source": [
    "# Prediction"
   ]
  },
  {
   "cell_type": "code",
   "execution_count": 10,
   "id": "52ba5a49",
   "metadata": {
    "execution": {
     "iopub.execute_input": "2021-09-10T07:08:24.961953Z",
     "iopub.status.busy": "2021-09-10T07:08:24.961254Z",
     "iopub.status.idle": "2021-09-10T07:08:24.992018Z",
     "shell.execute_reply": "2021-09-10T07:08:24.991333Z"
    },
    "papermill": {
     "duration": 0.064618,
     "end_time": "2021-09-10T07:08:24.992174",
     "exception": false,
     "start_time": "2021-09-10T07:08:24.927556",
     "status": "completed"
    },
    "tags": []
   },
   "outputs": [
    {
     "data": {
      "text/html": [
       "<div>\n",
       "<style scoped>\n",
       "    .dataframe tbody tr th:only-of-type {\n",
       "        vertical-align: middle;\n",
       "    }\n",
       "\n",
       "    .dataframe tbody tr th {\n",
       "        vertical-align: top;\n",
       "    }\n",
       "\n",
       "    .dataframe thead th {\n",
       "        text-align: right;\n",
       "    }\n",
       "</style>\n",
       "<table border=\"1\" class=\"dataframe\">\n",
       "  <thead>\n",
       "    <tr style=\"text-align: right;\">\n",
       "      <th></th>\n",
       "      <th>filename</th>\n",
       "      <th>emotion</th>\n",
       "    </tr>\n",
       "  </thead>\n",
       "  <tbody>\n",
       "    <tr>\n",
       "      <th>0</th>\n",
       "      <td>26199.mp3</td>\n",
       "      <td>neutral</td>\n",
       "    </tr>\n",
       "    <tr>\n",
       "      <th>1</th>\n",
       "      <td>692.mp3</td>\n",
       "      <td>neutral</td>\n",
       "    </tr>\n",
       "    <tr>\n",
       "      <th>2</th>\n",
       "      <td>16821.mp3</td>\n",
       "      <td>neutral</td>\n",
       "    </tr>\n",
       "    <tr>\n",
       "      <th>3</th>\n",
       "      <td>1608.mp3</td>\n",
       "      <td>neutral</td>\n",
       "    </tr>\n",
       "    <tr>\n",
       "      <th>4</th>\n",
       "      <td>47947.wav</td>\n",
       "      <td>disgust</td>\n",
       "    </tr>\n",
       "  </tbody>\n",
       "</table>\n",
       "</div>"
      ],
      "text/plain": [
       "    filename  emotion\n",
       "0  26199.mp3  neutral\n",
       "1    692.mp3  neutral\n",
       "2  16821.mp3  neutral\n",
       "3   1608.mp3  neutral\n",
       "4  47947.wav  disgust"
      ]
     },
     "execution_count": 10,
     "metadata": {},
     "output_type": "execute_result"
    }
   ],
   "source": [
    "test_data['emotion'] = np.argmax(final_preds, axis=-1)\n",
    "test_data = test_data.replace(decode)\n",
    "test_data[['filename', 'emotion']].to_csv('submission.csv', index = False)\n",
    "test_data[['filename', 'emotion']].head()"
   ]
  },
  {
   "cell_type": "markdown",
   "id": "a1642571",
   "metadata": {
    "papermill": {
     "duration": 0.022383,
     "end_time": "2021-09-10T07:08:25.037940",
     "exception": false,
     "start_time": "2021-09-10T07:08:25.015557",
     "status": "completed"
    },
    "tags": []
   },
   "source": [
    "# Postprocessing"
   ]
  },
  {
   "cell_type": "code",
   "execution_count": 11,
   "id": "dada1211",
   "metadata": {
    "execution": {
     "iopub.execute_input": "2021-09-10T07:08:25.094001Z",
     "iopub.status.busy": "2021-09-10T07:08:25.092965Z",
     "iopub.status.idle": "2021-09-10T07:08:25.126199Z",
     "shell.execute_reply": "2021-09-10T07:08:25.125459Z"
    },
    "papermill": {
     "duration": 0.065734,
     "end_time": "2021-09-10T07:08:25.126360",
     "exception": false,
     "start_time": "2021-09-10T07:08:25.060626",
     "status": "completed"
    },
    "tags": []
   },
   "outputs": [
    {
     "name": "stdout",
     "output_type": "stream",
     "text": [
      "25\n"
     ]
    }
   ],
   "source": [
    "postprocess = True\n",
    "if postprocess:\n",
    "    count = 0\n",
    "    final_preds1 = final_preds.copy()\n",
    "    for i in range(len(final_preds1)):\n",
    "        temp = np.argmax(final_preds1[i])\n",
    "        if(temp == 4 and final_preds1[i][temp] > 0.5 and final_preds1[i][temp] <= 0.51):\n",
    "            final_preds1[i][temp] = 0\n",
    "            count += 1\n",
    "    print(count)\n",
    "    test_data['emotion'] = np.argmax(final_preds1, axis=-1)\n",
    "    test_data = test_data.replace(decode)\n",
    "    test_data[['filename', 'emotion']].to_csv(\"submission_postprocess.csv\", index = False)"
   ]
  },
  {
   "cell_type": "code",
   "execution_count": null,
   "id": "c2a1aa36",
   "metadata": {
    "papermill": {
     "duration": 0.022878,
     "end_time": "2021-09-10T07:08:25.172953",
     "exception": false,
     "start_time": "2021-09-10T07:08:25.150075",
     "status": "completed"
    },
    "tags": []
   },
   "outputs": [],
   "source": []
  }
 ],
 "metadata": {
  "kernelspec": {
   "display_name": "Python 3",
   "language": "python",
   "name": "python3"
  },
  "language_info": {
   "codemirror_mode": {
    "name": "ipython",
    "version": 3
   },
   "file_extension": ".py",
   "mimetype": "text/x-python",
   "name": "python",
   "nbconvert_exporter": "python",
   "pygments_lexer": "ipython3",
   "version": "3.7.10"
  },
  "papermill": {
   "default_parameters": {},
   "duration": 4150.273561,
   "end_time": "2021-09-10T07:08:27.728199",
   "environment_variables": {},
   "exception": null,
   "input_path": "__notebook__.ipynb",
   "output_path": "__notebook__.ipynb",
   "parameters": {},
   "start_time": "2021-09-10T05:59:17.454638",
   "version": "2.3.3"
  }
 },
 "nbformat": 4,
 "nbformat_minor": 5
}
